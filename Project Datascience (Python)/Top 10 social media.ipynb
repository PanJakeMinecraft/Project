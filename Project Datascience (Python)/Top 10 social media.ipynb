{
 "cells": [
  {
   "cell_type": "code",
   "execution_count": null,
   "metadata": {},
   "outputs": [],
   "source": [
    "# These are libraries that will be use\n",
    "# Run this first before running other code blocks\n",
    "\n",
    "import numpy as np\n",
    "import pandas as pd\n",
    "import matplotlib.pyplot as plt\n",
    "import statistics\n",
    "import math"
   ]
  },
  {
   "cell_type": "code",
   "execution_count": null,
   "metadata": {},
   "outputs": [],
   "source": [
    "import numpy as np\n",
    "import pandas as pd\n",
    "import matplotlib.pyplot as plt\n",
    "import statistics\n",
    "import math\n",
    "\n",
    "# Displaying the dataframe of the applications:\n",
    "\n",
    "Application = np.array([\"Tiktok\",\"Instagram\",\"Facebook\",\"WhatsApp\",\"Telegram\",\"Snapchat\",\"Zoom\",\"Messenger\",\"Capcut\",\"Spotify\"])\n",
    "Downloads = np.array([656,545,416,395,329,327,300,268,255,203])\n",
    "\n",
    "df = pd.DataFrame({\"Application\": Application, \"Downloads in millions\": Downloads})\n",
    "df\n"
   ]
  },
  {
   "cell_type": "code",
   "execution_count": null,
   "metadata": {},
   "outputs": [],
   "source": [
    "# Finding the statistics of the applications:\n",
    "\n",
    "Application = np.array([\"Tiktok\",\"Instagram\",\"Facebook\",\"WhatsApp\",\"Telegram\",\"Snapchat\",\"Zoom\",\"Messenger\",\"Capcut\",\"Spotify\"])\n",
    "Downloads = np.array([656,545,416,395,329,327,300,268,255,203])\n",
    "\n",
    "df = pd.DataFrame({\"Application\": Application, \"Downloads in millions\": Downloads})\n",
    "mean = df[\"Downloads in millions\"].mean()\n",
    "median= df[\"Downloads in millions\"].median()\n",
    "mode = df[\"Downloads in millions\"].mode().iloc[0]\n",
    "\n",
    "data_df = pd.DataFrame({\n",
    "    \"Types of measure\": [\"Mean\", \"Median\", \"Mode\"],\n",
    "    \"Value\": [mean, median, mode]\n",
    "})\n",
    "\n",
    "data_df"
   ]
  },
  {
   "cell_type": "code",
   "execution_count": null,
   "metadata": {},
   "outputs": [],
   "source": [
    "# Percentage of top 10 download applications in PIE CHART\n",
    "\n",
    "Apps = ['Spotify', 'Capcut', 'Messenger',\n",
    "        'Zoom', 'Snapchat', 'Telegram','whatsapp','Facebook','Instragram','Tiktok']\n",
    " \n",
    "data = [203,255,268,300,327,329,395,416,545,656]\n",
    " \n",
    "fig = plt.figure(figsize =(10, 7))\n",
    "plt.pie(data, labels = Apps)\n",
    "\n",
    "plt.title(\"Top 10 Applications\", color=\"#6F0CFF\", font=\"Comic Sans MS\", size=25)\n",
    "plt.pie(data, labels=Apps, autopct='%1.1f%%')\n",
    "plt.show() \n",
    "\n",
    "plt.show()"
   ]
  },
  {
   "cell_type": "code",
   "execution_count": null,
   "metadata": {},
   "outputs": [],
   "source": [
    "# Most popular application: Tiktok, users downloads in each year\n",
    "\n",
    "\n",
    "x1 = [2018,2019,2020]\n",
    "y1 = [62,130,198]\n",
    "\n",
    "x2 = [2018,2019,2020]\n",
    "y2 = [28,55,105]\n",
    "\n",
    "x3 = [2018,2019,2020]\n",
    "y3 = [21,52,98]\n",
    "\n",
    "plt.plot(x1,y1, color = \"Orange\")\n",
    "plt.plot(x2,y2, color = \"red\")\n",
    "plt.plot(x3,y3, color = \"Green\")\n",
    "\n",
    "plt.title(\"Tiktok Users in 2022\", color=\"Red\", size=28)\n",
    "plt.plot(x1, y1, label=\"Southeast Asia\")\n",
    "plt.plot(x2, y2, label=\"North America\")\n",
    "plt.plot(x3, y3, label=\"Europe\")\n",
    "\n",
    "plt.xlabel(\"Year\", color=\"blue\")\n",
    "plt.ylabel(\"Users in region in (millions)\", color=\"blue\")\n",
    "plt.legend()\n",
    "plt.show()\n"
   ]
  },
  {
   "cell_type": "code",
   "execution_count": null,
   "metadata": {},
   "outputs": [],
   "source": [
    "# Tiktok revenue in each year\n",
    "\n",
    "x = [2017,2018,2019,2020,2021]\n",
    "y =[63,150,350,1900,4600]\n",
    "\n",
    "\n",
    "plt.title(\"Tiktok Revenue\", color=\"Orange\", size=28)\n",
    "plt.plot(x,y, color =\"Red\", ls=':')\n",
    "plt.xlabel(\"Year\", color=\"Magenta\")\n",
    "plt.ylabel(\"Revenue in million dollars\", color=\"Magenta\")\n",
    "plt.show()\n",
    "plt.show() "
   ]
  },
  {
   "cell_type": "code",
   "execution_count": null,
   "metadata": {},
   "outputs": [],
   "source": [
    "# Tiktok download classified by gender \n",
    "\n",
    "data = np.array([60,40])\n",
    "data_label = [\"Female\", \"Male\"]\n",
    "sizes = [215, 130, 245, 210]\n",
    "\n",
    "plt.title(\"Gender\", color=\"Purple\", size=25)\n",
    "plt.pie(data, labels=data_label, autopct='%1.1f%%', shadow=True, startangle=90)\n",
    "plt.axis('equal')\n",
    "plt.legend()\n",
    "plt.show()"
   ]
  },
  {
   "cell_type": "code",
   "execution_count": null,
   "metadata": {},
   "outputs": [],
   "source": [
    "# Tiktok cumulative downloads\n",
    "\n",
    "x = [2017,2018,2019,2020,2021]\n",
    "y = [130,750,1500,2600,3300]\n",
    "\n",
    "colors = np.array([0,10,20,30,40,50,60,70,80,90])\n",
    "\n",
    "plt.scatter(x,y, color=\"Purple\", s=100)\n",
    "plt.title(\"Tiktok Cumulative Downloads\", color=\"Red\", size=25)\n",
    "plt.xlabel(\"Year\", color=\"blue\")\n",
    "plt.ylabel(\"Downloads in (millions)\", color=\"Blue\")\n",
    "plt.show()\n"
   ]
  },
  {
   "cell_type": "code",
   "execution_count": null,
   "metadata": {},
   "outputs": [],
   "source": [
    "# Tiktok users classified by age\n",
    "\n",
    "# TikTok age demographics\n",
    "#Under 18\t28\n",
    "#19-29\t    35\n",
    "#30-39\t    18\n",
    "#39+\t    19\n",
    "\n",
    "data = np.array([28,35,18,19])\n",
    "data_label = [\"Under 18\", \"Between 19-29\", \"Between 30-39\", \"Morethan 39\"]\n",
    "data_explode = [0,0.3,0,0]\n",
    "\n",
    "plt.title(\"Tiktok user by age\", color=\"Purple\", size=25)\n",
    "\n",
    "plt.pie(data, labels = data_label, explode = data_explode,  autopct='%1.1f%%')\n",
    "plt.legend()\n",
    "plt.show()"
   ]
  },
  {
   "cell_type": "code",
   "execution_count": null,
   "metadata": {},
   "outputs": [],
   "source": [
    "# The second most popular application, instagram\n",
    "\n",
    "# Instagram users in each year\n",
    "\n",
    "name = np.array([2015,2016,2017,2018,2019,2020,2021])\n",
    "data = np.array([370,500,700,1000,1210,1520,1890])\n",
    "\n",
    "plt.title(\"Instragram Users\", color=\"Orange\", size=28)\n",
    "colors = np.array([\"red\",\"blue\",\"green\", \"orange\", \"pink\", \"yellow\"])\n",
    "plt.bar(name, data, color=colors)\n",
    "plt.xlabel(\"Year\", color=\"Blue\")\n",
    "plt.ylabel(\"Users in million\", color=\"black\")\n",
    "plt.legend()\n",
    "plt.show()"
   ]
  },
  {
   "cell_type": "code",
   "execution_count": null,
   "metadata": {},
   "outputs": [],
   "source": [
    "# instagram revenue in each year\n",
    "\n",
    "x = [2015,2016,2017,2018,2019,2020,2021]\n",
    "y = [0.5,1.8,4.1,10.3,19.4,26.8,47.6]\n",
    "\n",
    "\n",
    "plt.title(\"Instragram revenue\", color=\"Purple\", size=28)\n",
    "plt.plot(x,y, color =\"Red\")\n",
    "plt.xlabel(\"Year\", color=\"Blue\")\n",
    "plt.ylabel(\"Revenue in BILLION dollars\", color=\"Magenta\")\n",
    "plt.grid()\n",
    "plt.show()\n",
    "plt.show() \n"
   ]
  },
  {
   "cell_type": "code",
   "execution_count": null,
   "metadata": {},
   "outputs": [],
   "source": [
    "# Instagranm users in region\n",
    "\n",
    "data1 = np.array([893,338,289,222,112,96,22])\n",
    "data_label1 = [\"Asia\",\"Europe\",\"South America\",\"North America\",\"Middle east\",\"Africa\",\"Australia\"]\n",
    "\n",
    "plt.title(\"Instragram Users in region in 2022 \", color=\"Navy\", size=20)\n",
    "plt.pie(data1, labels = data_label1, autopct='%1.1f%%', shadow=True, startangle=30)\n",
    "plt.legend()\n",
    "plt.show()"
   ]
  },
  {
   "cell_type": "code",
   "execution_count": null,
   "metadata": {},
   "outputs": [],
   "source": [
    "# instagram users classified by gender\n",
    "\n",
    "data = np.array([46.2,50.8])\n",
    "data_label = [\"Male\",\"Female\"]\n",
    "data_explode = [0.1,0]\n",
    "\n",
    "plt.title(\"Instragram users classify by gender\", color=\"Indigo\", size=20)\n",
    "plt.pie(data, labels = data_label, explode = data_explode, autopct='%1.1f%%', shadow=True)\n",
    "plt.legend()\n",
    "plt.show()"
   ]
  },
  {
   "cell_type": "code",
   "execution_count": null,
   "metadata": {},
   "outputs": [],
   "source": [
    "# Instagram users classified by age\n",
    "\n",
    "days = [0.0,0.0,0.1]\n",
    "\n",
    "x1 =[2]\n",
    "x2 = [4]\n",
    "x3 =[7]\n",
    "x4 =[8]\n",
    "x5 =[16]\n",
    "x6 =[30]\n",
    "x7 =[33]\n",
    "\n",
    "plt.plot([],[],color='Blue', label='Morethan 65 years old', linewidth=5)\n",
    "plt.plot([],[],color='Green', label='Age 55-64 years old', linewidth=5)\n",
    "plt.plot([],[],color='red', label='Age 13-17', linewidth=5)\n",
    "plt.plot([],[],color='Cyan', label='Age 45-54', linewidth=5)\n",
    "plt.plot([],[],color='Pink', label='Age 35-44', linewidth=5)\n",
    "plt.plot([],[],color='Yellow', label='Age 18-24', linewidth=5)\n",
    "plt.plot([],[],color='Orange', label='Age 25-34', linewidth=5)\n",
    "\n",
    "\n",
    "plt.title(\"Instragram Users by age\", color=\"Purple\", size=28)\n",
    "plt.stackplot(days, x1,x2,x3,x4,x5,x6,x7, colors=['Blue','Green','Red','Cyan','Pink',\"yellow\",\"Orange\"])\n",
    "\n",
    "plt.xlabel('')\n",
    "plt.ylabel('Percentage of users by age')\n",
    "plt.legend()\n",
    "plt.show()\n"
   ]
  },
  {
   "cell_type": "code",
   "execution_count": null,
   "metadata": {},
   "outputs": [],
   "source": [
    "# The third most popular application: Facebook\n",
    "\n",
    "x = [2010,2011,2012,2013,2014,2015,2016,2017,2018,2019,2020,2021]\n",
    "y = [1.97,3.71,5.08,7.87,12.46,17.92,27.63,40.65,55.83,70.69,85.96,117.92]\n",
    "\n",
    "plt.title(\"Facebook Revenue per year\", color=\"Indigo\", size=20)\n",
    "plt.xlabel(\"Years\", color=\"Red\", size=\"20\")\n",
    "plt.ylabel(\"Revenue in $billion\", color=\"red\", size=\"20\")\n",
    "plt.plot(x,y, linestyle=\"dashed\", color=\"brown\", marker=\"o\")\n",
    "plt.grid()\n",
    "plt.show()\n"
   ]
  },
  {
   "cell_type": "code",
   "execution_count": null,
   "metadata": {},
   "outputs": [],
   "source": [
    "name = np.array([\"Desktop only\",\"Desktop and mobile\",\"Mobile only\"])\n",
    "data = np.array([1.7,17.3,81])\n",
    "colors = np.array([\"Red\",\"Green\",\"Blue\"])\n",
    "\n",
    "plt.title(\"Facebook users classify by device\", color=\"Steelblue\", size=20)\n",
    "plt.xlabel(\"Type of device\", color=\"Magenta\")\n",
    "plt.ylabel(\"Percentage of device\", color=\"Green\")\n",
    "plt.barh(name, data, color=colors)\n",
    "plt.legend()\n",
    "plt.show()"
   ]
  },
  {
   "cell_type": "code",
   "execution_count": null,
   "metadata": {},
   "outputs": [],
   "source": [
    "data = np.array([35.6,15.1,47.2,2.1])\n",
    "data_label = [\"Photos\",\"Videos\",\"links\",\"Status\"]\n",
    "\n",
    "plt.title(\"Facebook contents\", color=\"Steelblue\", size=20)\n",
    "plt.pie(data, labels = data_label, autopct='%1.1f%%', shadow=True, startangle=32)\n",
    "plt.legend()\n",
    "plt.show()"
   ]
  },
  {
   "cell_type": "code",
   "execution_count": null,
   "metadata": {},
   "outputs": [],
   "source": [
    "data = np.array([43.2,56.8])\n",
    "data_label = [\"Male\",\"Female\"]\n",
    "data_explode = [0,0.2]\n",
    "\n",
    "centre_circle = plt.Circle((0,0),0.70,fc='white')\n",
    "fig = plt.gcf()\n",
    "fig.gca().add_artist(centre_circle)\n",
    "\n",
    "plt.pie(data, labels = data_label, explode= data_explode, autopct='%1.1f%%', shadow=\"True\")\n",
    "plt.legend()\n",
    "plt.show()"
   ]
  },
  {
   "cell_type": "code",
   "execution_count": null,
   "metadata": {},
   "outputs": [],
   "source": [
    "# The fourth popular application: Whats app\n",
    "# Users in Whatsapp in each year\n",
    "\n",
    "import matplotlib.pyplot as plt\n",
    "\n",
    "x1 =[2012,2013,2014,2015,2016]\n",
    "y1 =[103,213,409,719,1076]\n",
    "\n",
    "x2 = [2017,2018,2019,2020,2021]\n",
    "y2 =[1323,1560,1813,2102,2289]\n",
    "\n",
    "plt.title(\"Whatsapp users in each year\", color=\"red\", size=20)\n",
    "plt.xlabel(\"Years\", color=\"Navy\")\n",
    "plt.ylabel(\"Users in million\", color=\"Navy\")\n",
    "plt.scatter(x1,y1)\n",
    "plt.scatter(x2,y2) \n",
    "plt.legend()\n",
    "plt.show()"
   ]
  },
  {
   "cell_type": "code",
   "execution_count": null,
   "metadata": {},
   "outputs": [],
   "source": [
    "# Whatsapp download in countries\n",
    "name = np.array([\"India\",\"Brazil\",\"Indonesia\",\"United States\",\"Philipines\",\"Mexico\",\"Turkey\",\"Egypt\",\"Germany\",\"Nigeria\",\"Italy\"])\n",
    "data = np.array([390,148,112,98,88,77,56,55,44,40,35])\n",
    "\n",
    "plt.title(\"Whatsapp users in 2021 in different countries in 2022\", color=\"Green\", size=20)\n",
    "colors = np.array([\"red\",\"Navy\",\"Brown\",\"Silver\",\"Blue\",\"Pink\",\"gold\",\"black\",\"pink\"])\n",
    "plt.xlabel(\"Users in million\", color=\"Red\")\n",
    "plt.ylabel(\"Countries\", color=\"Navy\")\n",
    "plt.barh(name,data,color=colors)\n",
    "plt.show()"
   ]
  },
  {
   "cell_type": "code",
   "execution_count": null,
   "metadata": {},
   "outputs": [],
   "source": [
    "# Whatsapp revenue\n",
    "\n",
    "x = np.array([2018,2019,2020,2021])\n",
    "y = ([1.3,2.3,5.5,8.7])\n",
    "\n",
    "plt.title(\"Whatsapp revenue in each year\", color=\"Brown\", size=20)\n",
    "plt.plot(x,y, marker=\"o\")\n",
    "plt.xlabel(\"Years\", color=\"Red\")\n",
    "plt.ylabel(\"Revenue in $billion\")\n",
    "plt.show()"
   ]
  },
  {
   "cell_type": "code",
   "execution_count": null,
   "metadata": {},
   "outputs": [],
   "source": [
    "# The fifth popular application: Telegram\n",
    "# Telegram downloads classified by gender\n",
    "\n",
    "data = np.array([41.4,58.6])\n",
    "data_label =[\"Female\",\"Male\"]\n",
    "\n",
    "plt.title(\"Telegram user classify by gender\", color=\"Salmon\", size=22)\n",
    "plt.pie(data, labels=data_label, autopct='%1.1f%%', shadow=True, startangle=55)\n",
    "plt.legend()\n",
    "plt.show()\n",
    "\n"
   ]
  },
  {
   "cell_type": "code",
   "execution_count": null,
   "metadata": {},
   "outputs": [],
   "source": [
    "# Telegram users in each regions\n",
    "\n",
    "data = np.array([38,27,21,8])\n",
    "data_label = [\"Asia\",\"Europe\",\"North/South America\", \"Middle east\"]\n",
    "data_explode = [0.2,0,0,0]\n",
    "plt.title(\"Telegram users by region\", color=\"Green\", size=30)\n",
    "plt.pie(data, labels=data_label, explode=data_explode, autopct='%1.1f%%', shadow=True, startangle=55)\n",
    "plt.legend()\n",
    "plt.show()\n"
   ]
  },
  {
   "cell_type": "code",
   "execution_count": null,
   "metadata": {},
   "outputs": [],
   "source": [
    "# Telegram users in each year\n",
    "\n",
    "x1 = [2014,2015,2016,2017]\n",
    "y1 =[35,50,80,150]\n",
    "\n",
    "x2 = [2018,2019,2020,2021]\n",
    "y2= [200,300,400,500]\n",
    "\n",
    "plt.title(\"Telegram users\", color=\"Cyan\", size=20)\n",
    "plt.subplot(1,2,1).set_title(\"user in 2014-2017\", color=\"Magenta\", size=15) \n",
    "\n",
    "plt.plot(x1,y1, marker=\"o\", color=\"Orange\")\n",
    "plt.subplot(1,2,2).set_title(\"users in million from 2018-2021\", color=\"Red\", size=15)\n",
    "\n",
    "plt.plot(x2,y2, marker=\"o\", color=\"Red\")\n",
    "plt.show()"
   ]
  },
  {
   "cell_type": "code",
   "execution_count": null,
   "metadata": {},
   "outputs": [],
   "source": [
    "# Top 5 music applications\n",
    "name = np.array([\"Spotify\",\"Resso\",\"YouTube music\",\"StarMaker\", \"Soundcloud\"])\n",
    "data=np.array([203,85,79,76,52])\n",
    "\n",
    "plt.title(\"Top 5 download music apps\", color=\"Deepskyblue\", size=20)\n",
    "plt.xlabel(\"Name of the application\", size=18, color=\"Salmon\")\n",
    "plt.ylabel(\"Downloads in million\", size=18, color=\"salmon\")\n",
    "\n",
    "plt.bar(name, data, color=[\"Red\",\"Salmon\",\"Magenta\",\"Pink\",\"Yellow\",\"gold\"])\n",
    "plt.show()"
   ]
  },
  {
   "cell_type": "code",
   "execution_count": null,
   "metadata": {},
   "outputs": [],
   "source": [
    "# Top 5 most popular entertanining applictions\n",
    "\n",
    "name = np.array([\"Netflix\",\"Youtube\",\"Googlegames\",\"Disney+\",\"Amazonvideo\",\"Youtube music\",\"HBO max\",\"Twitch\",\"Hotstar\",\"Pluto TV\"])\n",
    "data = np.array([173,166,131,126,120,91,73,69,56,54])\n",
    "\n",
    "plt.title(\"Most popular entertain apps\", color=\"Magenta\", size=22)\n",
    "plt.xlabel(\"Name of an application\", color=\"Orange\", size=18)\n",
    "plt.ylabel(\"Downloads in million\", color=\"Blue\", size=18)\n",
    "\n",
    "plt.bar(name, data, color=[\"Yellow\",\"pink\",\"salmon\",\"red\",\"Brown\",\"Gold\",\"Silver\",\"Cyan\"])\n",
    "plt.show()"
   ]
  },
  {
   "cell_type": "code",
   "execution_count": null,
   "metadata": {},
   "outputs": [],
   "source": [
    "# Top 5 most download games\n",
    "\n",
    "name = np.array([\"Subway Surfers\",\"Roblox\",\"Bridge Race\",\"Freefire\",\"Amongus\"])\n",
    "data = np.array([191,182,169,154,152])\n",
    "\n",
    "plt.title(\"Top 5 download mobile games\", color=\"#FF1E0C\", size=25)\n",
    "plt.xlabel(\"Download in million\", size=20, color=\"red\")\n",
    "plt.ylabel(\"Games\", color=\"red\", size=20)\n",
    "\n",
    "plt.bar(name,data, color=[\"Blue\",\"orchid\",\"pink\",\"Violet\",\"Purple\"])\n",
    "plt.show()"
   ]
  }
 ],
 "metadata": {
  "kernelspec": {
   "display_name": "Python 3",
   "language": "python",
   "name": "python3"
  },
  "language_info": {
   "codemirror_mode": {
    "name": "ipython",
    "version": 3
   },
   "file_extension": ".py",
   "mimetype": "text/x-python",
   "name": "python",
   "nbconvert_exporter": "python",
   "pygments_lexer": "ipython3",
   "version": "3.11.6"
  },
  "orig_nbformat": 4
 },
 "nbformat": 4,
 "nbformat_minor": 2
}
